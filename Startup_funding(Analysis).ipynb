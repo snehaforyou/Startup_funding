{
 "cells": [
  {
   "cell_type": "markdown",
   "id": "bee27592-08c8-4d44-a19e-0d7929a16d73",
   "metadata": {},
   "source": [
    "## Startup_funding\n",
    "\n",
    "This dataset has funding information of the Indian startups from January 2015 to August 2017.\n",
    "\n",
    "Feature Details:\n",
    "\n",
    "1. SNo - Serial number\n",
    "2. Date - Date of funding in format DD/MM/YYYY\n",
    "3. StartupName - Name of the startup which got funded.\n",
    "4. IndustryVertical - Industry to which the startup belongs.\n",
    "5. SubVerical - Sub-category of the industry type.\n",
    "6. CityLocation - City which the startup based out of.\n",
    "7. InvestorsName - Name of the investors involved in the funding rounding.\n",
    "8. InvestmentType - Either Private Equity or Seed Funding.\n",
    "9. AmountInUSD - Funding Amount in USD.\n",
    "10. Remarks - Other information, if any., if any."
   ]
  },
  {
   "cell_type": "markdown",
   "id": "fddaef97-68b7-41fb-9e84-a6fbf9d137a9",
   "metadata": {},
   "source": [
    "1. No. of Fundings -\n",
    " \n",
    "Check the trend of investments over the years. To check the trend, find - Total number of fundings done in each year. Plot a line graph between year and number of fundings. Take year on x-axis and number of fundings on y-axis. Print year-wise total number of fundings also. Print years in ascending order.tion, if any."
   ]
  },
  {
   "cell_type": "code",
   "execution_count": null,
   "id": "ce974200-fff4-4920-afb3-07fe877155a5",
   "metadata": {},
   "outputs": [],
   "source": [
    "import numpy as np \n",
    "import csv\n",
    "import pandas as pd\n",
    "import matplotlib.pyplot as plt \n",
    "file_obj = open(\"startup_funding.csv\" , encoding = 'utf-8')\n",
    "file_data = csv.DictReader(file_obj , skipinitialspace = True)\n",
    "year = []\n",
    "for row in file_data:\n",
    "    year.append(row['Date'][len(row['Date'])-4:])\n",
    "np_year = np.array(year , dtype = 'int64')\n",
    "dict1 = {}\n",
    "for i in np_year:\n",
    "    if i in dict1:\n",
    "        dict1[i] += 1\n",
    "    else:\n",
    "        dict1[i] = 1\n",
    "ord_dict = sorted(dict1.items())\n",
    "jyear = []\n",
    "invest = []\n",
    "for i in dict1.keys():\n",
    "    jyear.append(int(i))\n",
    "for j in dict1.values():\n",
    "    invest.append(int(j))\n",
    "plt.plot(jyear , invest)\n",
    "plt.title('Trend of Investments Over the Years')\n",
    "plt.xlabel('Year')\n",
    "plt.ylabel('number of fundings')\n",
    "plt.xticks(jyear)\n",
    "plt.show()\n",
    "for i in ord_dict:\n",
    "    print(i[0] , i[1])"
   ]
  },
  {
   "cell_type": "markdown",
   "id": "3c2c13bb-6491-4408-a646-d42255f39f3c",
   "metadata": {},
   "source": [
    "2. Top Indian Cities -\n",
    " \n",
    "Find out which cities are generally chosen for starting a startup. Find top 10 Indian cities which have most number of startups ? Plot a pie chart and visualise it. Print the city name and number of startups in that city also."
   ]
  },
  {
   "cell_type": "code",
   "execution_count": null,
   "id": "1bda2ca2-5377-4310-82b5-15264ea1a3ae",
   "metadata": {},
   "outputs": [],
   "source": [
    "import matplotlib.pyplot as plt \n",
    "import pandas as pd \n",
    "df = pd.read_csv(\"startup_funding.csv\")\n",
    "df['CityLocation'] = df['CityLocation'].str.split('/').str[0].str.strip()\n",
    "df['CityLocation'] = df['CityLocation'].replace({\n",
    "    'bangalore': 'Bangalore',\n",
    "    'Delhi': 'New Delhi'\n",
    "})\n",
    "\n",
    "city_count = df['CityLocation'].value_counts().head(10)\n",
    "\n",
    "plt.figure(figsize=(10, 6))\n",
    "plt.pie(city_count, labels=city_count.index, autopct='%1.1f%%', startangle=140)\n",
    "plt.title('Top 10 Indian Cities with Most Startups')\n",
    "plt.axis('equal')\n",
    "plt.show()\n",
    "\n",
    "\n",
    "for city , count in city_count.items():\n",
    "    print(f'{city} {count}')"
   ]
  },
  {
   "cell_type": "markdown",
   "id": "0bbe69db-3414-47b8-b36e-8ce8a32868f8",
   "metadata": {},
   "source": [
    "3. Funding amount -\n",
    " \n",
    "Find out if cities play any role in receiving funding. Find top 10 Indian cities with most amount of fundings received. Find out percentage of funding each city has got (among top 10 Indian cities only). Print the city and percentage with 2 decimal place after rounding off."
   ]
  },
  {
   "cell_type": "code",
   "execution_count": null,
   "id": "e60ba097-2c54-4024-bcc8-6aa6408966c2",
   "metadata": {},
   "outputs": [],
   "source": [
    "import pandas as pd\n",
    "import numpy as np\n",
    "import matplotlib.pyplot as plt\n",
    "\n",
    "df = pd.read_csv('startup_funding.csv',encoding = 'utf-8')\n",
    "df.dropna(subset=[\"CityLocation\"],inplace=True)\n",
    "def separateCity(city):\n",
    "    return city.split('/')[0].strip()\n",
    "df['CityLocation'] = df['CityLocation'].apply(separateCity)\n",
    "df['CityLocation'].replace(\"Delhi\",\"New Delhi\",inplace = True)\n",
    "df['CityLocation'].replace(\"bangalore\",\"Bangalore\",inplace = True)\n",
    "\n",
    "df['AmountInUSD'] = df['AmountInUSD'].apply(lambda x: float(str(x).replace(\",\",\"\")))\n",
    "df = df.groupby('CityLocation')['AmountInUSD'].sum()\n",
    "df = df.sort_values(ascending = False)[0:10]\n",
    "city = df.index\n",
    "amount = df.values\n",
    "explode = [0.2,0.2,0.2,0.2,0.1,0.1,0.2,0.2,0.2,0.2]\n",
    "plt.pie(amount,labels = city,autopct='%0.2f',counterclock=False,startangle=90,explode =explode,radius=1.5)\n",
    "plt.show()\n",
    "\n",
    "percent = np.true_divide(amount,amount.sum())*100\n",
    "for i in range(len(city)):\n",
    "    print(city[i],format(percent[i],'0.2f'))\n"
   ]
  },
  {
   "cell_type": "markdown",
   "id": "5ec970aa-e5fc-463b-8dbb-336bb8e75e2e",
   "metadata": {},
   "source": [
    "4. Investment Type -\n",
    " \n",
    "There are 4 different type of investments. Find out percentage of amount funded for each investment type. Plot a pie chart to visualise. Print the investment type and percentage of amount funded with 2 decimal places after rounding off."
   ]
  },
  {
   "cell_type": "code",
   "execution_count": null,
   "id": "b579ef76-a1ce-4320-b618-ebd8262e8240",
   "metadata": {},
   "outputs": [],
   "source": [
    "import pandas as pd\n",
    "import numpy as np\n",
    "import matplotlib.pyplot as plt\n",
    "\n",
    "data_funding = pd.read_csv('startup_funding.csv')\n",
    "df = data_funding.copy()\n",
    "\n",
    "df.dropna(subset=['InvestmentType'], inplace=True)\n",
    "\n",
    "df.reset_index(inplace=True, drop=True)\n",
    "\n",
    "df['AmountInUSD'].fillna('0', inplace=True)\n",
    "\n",
    "df['InvestmentType'].replace(\"PrivateEquity\", \"Private Equity\", inplace=True)\n",
    "df['InvestmentType'].replace(\"SeedFunding\", \"Seed Funding\", inplace=True)\n",
    "df['InvestmentType'].replace(\"DebtFunding\", \"Debt Funding\", inplace=True)\n",
    "df['InvestmentType'].replace(\"Crowd funding\", \"Crowd Funding\", inplace=True)\n",
    "\n",
    "df['AmountInUSD'] = df['AmountInUSD'].str.replace(',', '', regex=True).astype(int)\n",
    "\n",
    "total_funding = df['AmountInUSD'].sum()\n",
    "\n",
    "investment_type_amount = df.groupby('InvestmentType')['AmountInUSD'].sum()\n",
    "\n",
    "investment_type_percentage = (investment_type_amount / total_funding) * 100\n",
    "\n",
    "investment_type_percentage = investment_type_percentage.sort_values(ascending=False)\n",
    "\n",
    "plt.figure(figsize=(8, 8))\n",
    "plt.pie(investment_type_percentage, labels=investment_type_percentage.index, autopct='%1.2f%%', startangle=140)\n",
    "plt.title('Percentage of Amount Funded by Investment Type')\n",
    "plt.axis('equal')\n",
    "plt.show()\n",
    "\n",
    "for investment_type, percentage in investment_type_percentage.items():\n",
    "    print(f\"{investment_type} {percentage:.2f}\")"
   ]
  },
  {
   "cell_type": "markdown",
   "id": "fd12738e-acc8-4f92-becf-28bce472925b",
   "metadata": {},
   "source": [
    "5. Top Industries -\n",
    " \n",
    "Which type of companies got more easily funding. To answer this question, find - Top 5 industries and percentage of the total amount funded to that industry. (among top 5 only) Print the industry name and percentage of the amount funded with 2 decimal place after rounding off."
   ]
  },
  {
   "cell_type": "code",
   "execution_count": null,
   "id": "ade3487e-a217-465a-b832-cab497665164",
   "metadata": {},
   "outputs": [],
   "source": [
    "import pandas as pd\n",
    "import numpy as np\n",
    "\n",
    "data = pd.read_csv('startup_funding.csv')\n",
    "df = data.copy()\n",
    "df['IndustryVertical'].replace('eCommerce', 'Ecommerce', inplace=True)\n",
    "df['IndustryVertical'].replace('ECommerce', 'Ecommerce', inplace=True)\n",
    "df['IndustryVertical'].replace('ecommerce', 'Ecommerce', inplace=True)\n",
    "\n",
    "\n",
    "df[\"AmountInUSD\"] = df['AmountInUSD'].apply(lambda x: float(str(x).replace(',', '')))\n",
    "df[\"AmountInUSD\"] = pd.to_numeric(df[\"AmountInUSD\"])\n",
    "\n",
    "industry_amount = df.groupby('IndustryVertical')[\"AmountInUSD\"].sum().sort_values(ascending=False)[0:5]\n",
    "industry = industry_amount.index\n",
    "amount = industry_amount.values\n",
    "\n",
    "per_amount = np.true_divide(amount, amount.sum()) * 100\n",
    "\n",
    "for i in range(len(industry)):\n",
    "    print(industry[i], format(per_amount[i], '.2f'))"
   ]
  },
  {
   "cell_type": "markdown",
   "id": "612c94ab-ebe0-43aa-8179-7611f58a4b1f",
   "metadata": {},
   "source": [
    "6. Top start-ups -\n",
    " \n",
    "Find top 5 startups with most amount of total funding. Print the startup name in descending order with respect to amount of funding. Note: Ola, Flipkart, Oyo, Paytm are important startups, so correct their names. There are many errors in startup names, ignore correcting all, just handle important ones."
   ]
  },
  {
   "cell_type": "code",
   "execution_count": null,
   "id": "27bc6620-c4ed-42ad-bb05-d5b311288896",
   "metadata": {},
   "outputs": [],
   "source": [
    "import pandas as pd\n",
    "import csv\n",
    "import numpy as np\n",
    "\n",
    "data = pd.read_csv('startup_funding.csv')\n",
    "\n",
    "data['AmountInUSD'] = data.AmountInUSD.str.replace(',','')\n",
    "data['AmountInUSD'] = data.AmountInUSD.astype(float)\n",
    "\n",
    "data['StartupName'] = data['StartupName'].replace({\n",
    "    'Ola Cabs': 'Ola',\n",
    "    'Flipkart.com': 'Flipkart',\n",
    "    'Oyo Rooms': 'Oyo',\n",
    "    'OYO Rooms': 'Oyo',\n",
    "    'Paytm Marketplace': 'Paytm'\n",
    "})\n",
    "\n",
    "startup_total_funding = data.groupby('StartupName')['AmountInUSD'].sum()\n",
    "\n",
    "top_startups = startup_total_funding.sort_values(ascending = False).head(5)\n",
    "\n",
    "for startup in top_startups.index:\n",
    "    print(startup)"
   ]
  },
  {
   "cell_type": "markdown",
   "id": "4923e7a2-bc0c-418e-8170-2eb009bef382",
   "metadata": {},
   "source": [
    "7. Funding Rounds-\n",
    " \n",
    "Find the top 5 startups who received the most number of funding rounds. That means, startups which got fundings maximum number of times. Print the startup name in descending order with respect to the number of funding round as integer value."
   ]
  },
  {
   "cell_type": "code",
   "execution_count": null,
   "id": "d06dd14e-a8d6-4b2e-8992-a660ba4ba567",
   "metadata": {},
   "outputs": [],
   "source": [
    "import pandas as pd \n",
    "df = pd.read_csv('startup_funding.csv')\n",
    "\n",
    "df['StartupName'] =df['StartupName'].replace({\n",
    "    'Flipkart.com':'Flipkart',\n",
    "    'Ola Cabs':'Ola',\n",
    "    'Olacabs':'Ola',\n",
    "    'Oyo Rooms':'Oyo',\n",
    "    'OyoRooms':'Oyo',\n",
    "    'Oyorooms':'Oyo',\n",
    "    'OYO Rooms':'Oyo',\n",
    "    \"Paytm Marketplace\":\"Paytm\"\n",
    "})\n",
    "startup_count = {}\n",
    "for startup in df['StartupName']:\n",
    "    startup_count[startup] = startup_count.get(startup , 0) + 1\n",
    "sorted_startup = sorted(startup_count.items() , key= lambda x: x[1] , reverse= True)\n",
    "\n",
    "for i in range(min(5 , len(sorted_startup))):\n",
    "    print(f\"{sorted_startup[i][0]} {sorted_startup[i][1]}\")"
   ]
  },
  {
   "cell_type": "markdown",
   "id": "9d231916-f47a-4c4c-b901-d5c2ceb50efe",
   "metadata": {},
   "source": [
    "8. Top Investors -\n",
    " \n",
    "Find the Investors who have invested maximum number of times. Print the investor name and number of times invested as integer value. Note: In startup, multiple investors might have invested. So consider each investor for that startup. Ignore the undisclosed investors."
   ]
  },
  {
   "cell_type": "code",
   "execution_count": null,
   "id": "69ee8d2b-0267-45bc-a70e-ee4595594f81",
   "metadata": {},
   "outputs": [],
   "source": [
    "import csv \n",
    "\n",
    "investor_count = {}\n",
    "with open('startup_funding.csv' , 'r' , encoding = 'utf-8') as file:\n",
    "    df = csv.DictReader(file)\n",
    "    for row in df:\n",
    "        investor = row['InvestorsName'].split(',')\n",
    "        for i in investor:\n",
    "            if i.strip() != '' and i.strip().lower() != 'undisclosed':\n",
    "                investor_count[i.strip()] = investor_count.get(i.strip() , 0) + 1\n",
    "\n",
    "max_investor = max(investor_count , key=investor_count.get)\n",
    "max_investment = investor_count[max_investor]\n",
    "\n",
    "print(f\"{max_investor} {max_investment}\")"
   ]
  }
 ],
 "metadata": {
  "kernelspec": {
   "display_name": "Python 3 (ipykernel)",
   "language": "python",
   "name": "python3"
  },
  "language_info": {
   "codemirror_mode": {
    "name": "ipython",
    "version": 3
   },
   "file_extension": ".py",
   "mimetype": "text/x-python",
   "name": "python",
   "nbconvert_exporter": "python",
   "pygments_lexer": "ipython3",
   "version": "3.11.7"
  }
 },
 "nbformat": 4,
 "nbformat_minor": 5
}
